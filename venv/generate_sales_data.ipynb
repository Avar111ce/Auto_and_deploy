{
 "cells": [
  {
   "cell_type": "code",
   "execution_count": 2,
   "metadata": {},
   "outputs": [],
   "source": [
    "from datetime import datetime, timedelta\n",
    "import pandas as pd\n",
    "from random import randint \n",
    "\n",
    "companies = ['TSLA', 'NVDA', 'PLTR', 'SMCI', 'MLGO']\n",
    "\n",
    "today = datetime.today()\n",
    "yesterday = today - timedelta(days=1)\n",
    "\n",
    "if today.weekday() in range(1, 6):\n",
    "    d = {\n",
    "            'dt': [yesterday.strftime('%m/%d/%Y')] * len(companies) * 2,\n",
    "            'company': companies * 2,\n",
    "            'transaction_time': ['buy'] * len(companies) + ['sell'] * len(companies),\n",
    "            'amount': [randint(0, 1000) for _ in range (len(companies) * 2)] \n",
    "        }\n",
    "    df = pd.DataFrame(d)\n",
    "df.to_csv('sales_data.csv', index=False)"
   ]
  },
  {
   "cell_type": "code",
   "execution_count": null,
   "metadata": {},
   "outputs": [],
   "source": []
  }
 ],
 "metadata": {
  "kernelspec": {
   "display_name": "venv",
   "language": "python",
   "name": "python3"
  },
  "language_info": {
   "codemirror_mode": {
    "name": "ipython",
    "version": 3
   },
   "file_extension": ".py",
   "mimetype": "text/x-python",
   "name": "python",
   "nbconvert_exporter": "python",
   "pygments_lexer": "ipython3",
   "version": "3.13.2"
  }
 },
 "nbformat": 4,
 "nbformat_minor": 2
}
