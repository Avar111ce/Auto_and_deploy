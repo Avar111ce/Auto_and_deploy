{
 "cells": [
  {
   "cell_type": "code",
   "execution_count": null,
   "metadata": {},
   "outputs": [],
   "source": [
    "import configparser\n",
    "import os\n",
    "from datetime import datetime, timedelta\n",
    "import pandas as pd\n",
    "from random import randint\n",
    "\n",
    "dirname = os.path.dirname(__file__)\n",
    "\n",
    "config = configparser.ConfigParser()\n",
    "config.read(os.path.join(dirname, 'config.ini'))\n",
    "companies = ['TSLA', 'NVDA', 'PLTR', 'SMCI', 'MLGO']\n",
    "\n",
    "today = datetime.today()\n",
    "yesterday = today - timedelta(days=1)\n",
    "\n",
    "if today.weekday() in range(1, 6):\n",
    "    d = {\n",
    "            'dt': [yesterday.strftime('%m/%d/%Y')] * len(companies) * 2,\n",
    "            'company': companies * 2,\n",
    "            'transaction_type': ['buy'] * len(companies) + ['sell'] * len(companies),\n",
    "            'amount': [randint(0, 1000) for _ in range (len(companies) * 2)]\n",
    "        }\n",
    "    df = pd.DataFrame(d)\n",
    "df.to_csv(os.path.join(dirname, 'sales_data.csv'), index=False)\n"
   ]
  },
  {
   "cell_type": "code",
   "execution_count": null,
   "metadata": {},
   "outputs": [],
   "source": []
  }
 ],
 "metadata": {
  "kernelspec": {
   "display_name": "venv",
   "language": "python",
   "name": "python3"
  },
  "language_info": {
   "codemirror_mode": {
    "name": "ipython",
    "version": 3
   },
   "file_extension": ".py",
   "mimetype": "text/x-python",
   "name": "python",
   "nbconvert_exporter": "python",
   "pygments_lexer": "ipython3",
   "version": "3.13.2"
  }
 },
 "nbformat": 4,
 "nbformat_minor": 2
}
